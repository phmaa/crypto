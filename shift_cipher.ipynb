{
 "cells": [
  {
   "cell_type": "markdown",
   "metadata": {},
   "source": [
    "### Shift Cipher\n",
    "    This program use the frequency analysis of the English language to find the shift."
   ]
  },
  {
   "cell_type": "code",
   "execution_count": 98,
   "metadata": {},
   "outputs": [],
   "source": [
    "def frequency(ciphertext):\n",
    "    freq = {}\n",
    "    for i in range(len(ciphertext)):\n",
    "        if ciphertext[i] not in freq.keys():\n",
    "            freq[ciphertext[i]] = 1\n",
    "        else:\n",
    "            freq[ciphertext[i]] += 1\n",
    "    \n",
    "    # sort the items by descending value and return the most frequent cipher letter\n",
    "    sorted_freq = sorted(freq.items(), key=lambda x: x[1], reverse=True)\n",
    "    sorted_freq = sorted_freq[:1]\n",
    "    \n",
    "    return sorted_freq\n",
    "        \n",
    "    "
   ]
  },
  {
   "cell_type": "code",
   "execution_count": 103,
   "metadata": {},
   "outputs": [
    {
     "name": "stdout",
     "output_type": "stream",
     "text": [
      "[('O', 10)]\n"
     ]
    }
   ],
   "source": [
    "ciphertext = 'MBIZDYQBKZRIMOBDKSXVIRKCMYWOKVYXQCKICSXMOTEVSECMKOCKBBOZYBDONVIE\\\n",
    "CONKXKSFOVICSWZVOMSZROB'\n",
    "\n",
    "freqletter = frequency(ciphertext)\n",
    "print(freqletter)"
   ]
  },
  {
   "cell_type": "code",
   "execution_count": 104,
   "metadata": {},
   "outputs": [],
   "source": [
    "a_dict = {'A':0, 'B':1, 'C':2, 'D':3, 'E':4, 'F':5,\n",
    "        'G':6, 'H':7, 'I':8, 'J':9, 'K':10, 'L':11,\n",
    "        'M':12, 'N':13, 'O':14, 'P':15,'Q':16,'R':17,\n",
    "        'S':18, 'T':19,'U':20,'V':21,'W':22,'X':23,\n",
    "        'Y':24,'Z':25}"
   ]
  },
  {
   "cell_type": "code",
   "execution_count": 111,
   "metadata": {},
   "outputs": [],
   "source": [
    "# Get the key by value\n",
    "key_list = list(a_dict.keys())\n",
    "val_list = list(a_dict.values())"
   ]
  },
  {
   "cell_type": "code",
   "execution_count": 112,
   "metadata": {},
   "outputs": [
    {
     "name": "stdout",
     "output_type": "stream",
     "text": [
      "10\n"
     ]
    }
   ],
   "source": [
    "# Assume that the most frequent letter O is mapped to e and calculate the key\n",
    "key = a_dict[freqletter[0][0]] - 4\n",
    "print(key)"
   ]
  },
  {
   "cell_type": "code",
   "execution_count": 114,
   "metadata": {},
   "outputs": [
    {
     "name": "stdout",
     "output_type": "stream",
     "text": [
      "cryptographycertainlyhascomealongsaysincejuliuscaesarreportedlyusedanaivelysimplecipher\n"
     ]
    }
   ],
   "source": [
    "# map the ciphertext using the shift 10\n",
    "plaintext = ''\n",
    "for i in range(len(ciphertext)):\n",
    "    temp = (a_dict[ciphertext[i]] - 10)%26\n",
    "    plaintext +=key_list[val_list.index(temp)].lower()\n",
    "print(plaintext)"
   ]
  },
  {
   "cell_type": "markdown",
   "metadata": {},
   "source": [
    "Plaintext: Cryptography certainly has come a long way since Julius Caesar reportedly used a naively simple cipher."
   ]
  }
 ],
 "metadata": {
  "kernelspec": {
   "display_name": "Python 3",
   "language": "python",
   "name": "python3"
  },
  "language_info": {
   "codemirror_mode": {
    "name": "ipython",
    "version": 3
   },
   "file_extension": ".py",
   "mimetype": "text/x-python",
   "name": "python",
   "nbconvert_exporter": "python",
   "pygments_lexer": "ipython3",
   "version": "3.7.6"
  }
 },
 "nbformat": 4,
 "nbformat_minor": 4
}
