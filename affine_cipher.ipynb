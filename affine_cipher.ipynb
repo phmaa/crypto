{
 "cells": [
  {
   "cell_type": "markdown",
   "metadata": {},
   "source": [
    "### Affine Cipher\n",
    "    This program use the single letter frequency analysis of the English language to find the key (a, b)"
   ]
  },
  {
   "cell_type": "code",
   "execution_count": 12,
   "metadata": {},
   "outputs": [],
   "source": [
    "# helper function to determine the single letter frequency\n",
    "def find_frequency(ciphertext):\n",
    "    freq = dict()\n",
    "\n",
    "    for i in range(len(ciphertext)):\n",
    "        if ciphertext[i] not in freq.keys():\n",
    "            freq[ciphertext[i]] = 1\n",
    "        else:\n",
    "            freq[ciphertext[i]] += 1\n",
    "    # sort the items by descending value and return the top two frequently occured cipher letters\n",
    "    sorted_freq = sorted(freq.items(), key=lambda x: x[1], reverse=True)\n",
    "\n",
    "    sorted_freq = sorted_freq[:2]\n",
    "\n",
    "    return sorted_freq"
   ]
  },
  {
   "cell_type": "code",
   "execution_count": 17,
   "metadata": {},
   "outputs": [],
   "source": [
    "# helper function that determines whether an element has inverse\n",
    "def is_invertible(a, b):\n",
    "    if b == 0:\n",
    "        return False\n",
    "    elif b==1:\n",
    "        return True\n",
    "    elif a%b==1:\n",
    "        return True\n",
    "    return is_invertible(b, a%b)"
   ]
  },
  {
   "cell_type": "code",
   "execution_count": 67,
   "metadata": {},
   "outputs": [],
   "source": [
    "# helper function that returns the inverse element\n",
    "def find_invertibles():\n",
    "    #invertibles = dict()\n",
    "    invertibles =[]\n",
    "    for i in range(1, 26):\n",
    "        if is_invertible(26, i):\n",
    "            # find the inverse of each element that is invertible\n",
    "            for j in range(1, 26):\n",
    "                if i*j %26 == 1:\n",
    "                    #invertibles[i]=j\n",
    "                    invertibles.append((i, j))\n",
    "    #print(invertibles.items())\n",
    "    return invertibles"
   ]
  },
  {
   "cell_type": "code",
   "execution_count": 68,
   "metadata": {},
   "outputs": [
    {
     "name": "stdout",
     "output_type": "stream",
     "text": [
      "[('Y', 19), ('H', 14)]\n"
     ]
    }
   ],
   "source": [
    "ciphertext = 'JYOJGXWYQNYGWFGDYIELYJQLIXKULQPPYNHFYIQTNWEJWEIGTKQTHYXXQUYTHIYTHFGTHFYETYHF\\\n",
    "GHQJHFYKBSWHHLQYNHFYKCESXNQTDYTHGCQPFYLHFGHTEETYCESXNRLYGM'\n",
    "y = find_frequency(ciphertext)\n",
    "print(y)"
   ]
  },
  {
   "cell_type": "code",
   "execution_count": 77,
   "metadata": {},
   "outputs": [],
   "source": [
    "# mapping\n",
    "a_dict = {'A':0, 'B':1, 'C':2, 'D':3, 'E':4, 'F':5,\n",
    "        'G':6, 'H':7, 'I':8, 'J':9, 'K':10, 'L':11,\n",
    "        'M':12, 'N':13, 'O':14, 'P':15,'Q':16,'R':17,\n",
    "        'S':18, 'T':19,'U':20,'V':21,'W':22,'X':23,\n",
    "        'Y':24,'Z':25}\n",
    "\n",
    "# remaining English letters with high frequency\n",
    "keys_to_extract = ('T', 'A', 'O', 'I', 'N', 'S', 'H', 'R')\n",
    "key_list = list(a_dict.keys())\n",
    "val_list = list(a_dict.values())"
   ]
  },
  {
   "cell_type": "code",
   "execution_count": 78,
   "metadata": {},
   "outputs": [
    {
     "name": "stdout",
     "output_type": "stream",
     "text": [
      "[(1, 1), (3, 9), (5, 21), (7, 15), (9, 3), (11, 19), (15, 7), (17, 23), (19, 11), (21, 5), (23, 17), (25, 25)]\n"
     ]
    }
   ],
   "source": [
    "# generate all the elements in Z26 that have inverses\n",
    "invertibles = find_invertibles()\n",
    "print(invertibles)"
   ]
  },
  {
   "cell_type": "code",
   "execution_count": 84,
   "metadata": {},
   "outputs": [
    {
     "name": "stdout",
     "output_type": "stream",
     "text": [
      "[11, 6, 19]\n"
     ]
    }
   ],
   "source": [
    "# map Y to e, and H to t to get the key (a, b)\n",
    "x1 = a_dict['E']  # e\n",
    "x2 = a_dict['T'] # t\n",
    "\n",
    "key = []\n",
    "for i in range(len(invertibles)):\n",
    "    for b in range(1, 26):\n",
    "        if x1 == invertibles[i][1]*(a_dict['Y']-b) % 26 and x2 == invertibles[i][1]*(a_dict['H']-b) %26:\n",
    "            key.append(invertibles[i][0])\n",
    "            key.append(b)\n",
    "            key.append(invertibles[i][1]) # a inverse\n",
    "print(key)"
   ]
  },
  {
   "cell_type": "code",
   "execution_count": 85,
   "metadata": {},
   "outputs": [
    {
     "name": "stdout",
     "output_type": "stream",
     "text": [
      "fewfalseideashavemorefirmlygrippedthemindsofsomanyintelligentmenthantheonethatiftheyjusttriedtheycouldinventacipherthatnoonecouldbreak\n"
     ]
    }
   ],
   "source": [
    "# test the key\n",
    "s=''\n",
    "for c in ciphertext:\n",
    "    temp = key[2]*(a_dict[c] - key[1])%26\n",
    "    s+=key_list[val_list.index(temp)].lower()\n",
    "print(s)\n",
    "    "
   ]
  },
  {
   "cell_type": "markdown",
   "metadata": {},
   "source": [
    "Plaintext: Few false ideas have more firmly gripped the minds of so many intelligent men than the one that if they just tried they could invent a cipher that no one could break."
   ]
  }
 ],
 "metadata": {
  "kernelspec": {
   "display_name": "Python 3",
   "language": "python",
   "name": "python3"
  },
  "language_info": {
   "codemirror_mode": {
    "name": "ipython",
    "version": 3
   },
   "file_extension": ".py",
   "mimetype": "text/x-python",
   "name": "python",
   "nbconvert_exporter": "python",
   "pygments_lexer": "ipython3",
   "version": "3.7.6"
  }
 },
 "nbformat": 4,
 "nbformat_minor": 4
}
