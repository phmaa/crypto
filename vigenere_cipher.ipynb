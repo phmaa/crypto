{
 "cells": [
  {
   "cell_type": "markdown",
   "metadata": {},
   "source": [
    "### Vigenère cipher\n",
    "    This program uses Kasiski's test to determine the key length based on the result of the trigram frequency, then uses it to calculate the Index of Coincidence to verify its accuracy. "
   ]
  },
  {
   "cell_type": "code",
   "execution_count": 1,
   "metadata": {},
   "outputs": [],
   "source": [
    "# analyze trigram frequency\n",
    "def trigram(ciphertext):\n",
    "    t_dict = {}\n",
    "\n",
    "    for i in range(len(ciphertext) -2):\n",
    "        for j in range(i+1, len(ciphertext) -1):\n",
    "            temp = ''\n",
    "            for k in range(i, i+3):\n",
    "                temp += ciphertext[k]\n",
    "        if temp not in t_dict.keys():\n",
    "            t_dict[temp] = 1\n",
    "        else:\n",
    "            t_dict[temp] += 1\n",
    "        temp = ''\n",
    "    \n",
    "    # sort the trigram by frequency\n",
    "    t_dict_sorted = sorted(t_dict.items(), key=lambda x:x[1], reverse=True)\n",
    "    tri_dict = []\n",
    "    for i in range(len(t_dict_sorted)):\n",
    "        if t_dict_sorted[i][1] > 3:\n",
    "            tri_dict.append(t_dict_sorted[i])\n",
    "    return tri_dict"
   ]
  },
  {
   "cell_type": "code",
   "execution_count": 2,
   "metadata": {},
   "outputs": [
    {
     "name": "stdout",
     "output_type": "stream",
     "text": [
      "[('TAE', 5), ('PLG', 5), ('LWM', 4), ('ETX', 4), ('FTA', 4), ('GXA', 4), ('TAI', 4)]\n"
     ]
    }
   ],
   "source": [
    "ciphertext='EAPCAMSIZZSMWSGMEOMEDAWNEWXGEZRCMMUTXJYVLAPBIYBJLWMPWXVWXVJAGIAIQJRXUMXZVDMLSIBYERPAIMIAEPQSQUNHXCC\\\n",
    "WNWAELIPVYPIJTBRLDMFVISONXLDBYILSFTKFUEHUDCETXVLWIKYHYVDVFTAENTBFBXMFUMTTXHOXBYPGIMBWEITMFDZUEXVLDSEOPLGLBFCNVWX\\\n",
    "BRNWCGJLFNHXZPDVTHFWXVWEVXWSEZTAMFHIEIMCLDSEOPLGLBFCNVWXBVIMLWGJLTMLWGMSUMXSABFTAELVWVSMSLWMTOKIGUBYEPLGAMGRHFDT\\\n",
    "UGNXYEDVZABWSQQFLHKARICPTXLTZEIMMKHKZEGXAUQTAEPQKMIIYMSQTVIGWSCQKYHRLWMFTAIJWIEDBWSCQETXPDTKKUTPHPBKEKRAIURYAENT\\\n",
    "JZOESYXKRLVEMHMJBNXAIPRSGSHWGJIVEDDZSIHPGVQTAEVWPTZTRRGHKZEGXAUQTIGWLGCDEGXUPVSEIVGSCTEWMFRWLRMXGHPFWPLGXAZNLEFT\\\n",
    "IEDPLGXAJAGIAUBYEKIOTZVOGPQDVVPXVKDVZNMLWLWILWMKIPVRXEFNERYAIUDCCDUIACARNXMFHIEIMCSAERYLIPXAKSBRJTTRTBSFIWFTAIJH\\\n",
    "QKILEKDKZAEEFSQETXPDTKKUTPVTDZAMMGCVFTTFADTFGBGSALVVBELXWETAIGCTPTXWLUWIIGWSCQKYBRSRWLRMSXAINOKEFNEYEKIWAAVILGGC\\\n",
    "NFRFMLNBFAVYDICIAEWLPBLSJYGIPZSUIACOJOBXXDTCOPWLWIKTAISHAZGGQWCBFFFIVXKRLWSUIWISMSLGMRTBRKPVZTRMKPUZSNWWDNKHXMJI\\\n",
    "ZRIGMFVQETXPDTKKUTPZTZVSRMKCWKRXEDAGKHXMJQCJIGIKHUVDBGSALFCMSJHIIEMVSXVVDMSDDWBAMXZXVXSYVGBISIHPGVQTAETWGAGEVXAKM'\n",
    "\n",
    "tri=trigram(ciphertext)\n",
    "print(tri)"
   ]
  },
  {
   "cell_type": "code",
   "execution_count": 3,
   "metadata": {},
   "outputs": [
    {
     "name": "stdout",
     "output_type": "stream",
     "text": [
      "Segment: PLG | Positions: [200, 256, 312, 536, 550] | Differences: [56, 112, 336, 350]\n",
      "Segment: ETXP | Positions: [408, 674, 891] | Differences: [266, 483]\n",
      "Segment: GXAU | Positions: [361, 494] | Differences: [133]\n"
     ]
    }
   ],
   "source": [
    "# Using Kasiski's test to calculate the distance of two identical segements\n",
    "\n",
    "segment = ['PLG', 'ETXP', 'GXAU']\n",
    "# store the first position of each segment returned\n",
    "for ele in segment:\n",
    "    a_list = [i for i in range(len(ciphertext)) if ciphertext.startswith(ele, i)]\n",
    "    # calculate the distance\n",
    "\n",
    "    a_dist = []\n",
    "    for i in range(1, len(a_list)):\n",
    "        a_dist.append(a_list[i] - a_list[0])\n",
    "    print(\"Segment:\", ele,\"| Positions:\", a_list,\"| Differences:\", a_dist)"
   ]
  },
  {
   "cell_type": "markdown",
   "metadata": {},
   "source": [
    "The algorithm of the second part is based on Frideman's Index of Coincidence"
   ]
  },
  {
   "cell_type": "code",
   "execution_count": 4,
   "metadata": {},
   "outputs": [],
   "source": [
    "# analyze signle letter frequency of the ciphertext\n",
    "def frequency(ciphertext):\n",
    "    a_dict = {}\n",
    "\n",
    "    for i in range(len(ciphertext)):\n",
    "        if ciphertext[i] not in a_dict.keys():\n",
    "            a_dict[ciphertext[i]] = 1\n",
    "        else:\n",
    "            a_dict[ciphertext[i]] += 1\n",
    "\n",
    "    return a_dict"
   ]
  },
  {
   "cell_type": "code",
   "execution_count": 5,
   "metadata": {},
   "outputs": [],
   "source": [
    "#calcuate index of the coincidence \n",
    "def idx_coincidence(ciphertext):\n",
    "    m = len(ciphertext)\n",
    "    a_dict = frequency(ciphertext)    \n",
    "    numerator = 0\n",
    "    for key in a_dict.keys():\n",
    "        numerator += a_dict[key]*(a_dict[key] -1)\n",
    "    ioc = numerator /( m* (m-1))\n",
    "    return ioc"
   ]
  },
  {
   "cell_type": "code",
   "execution_count": 6,
   "metadata": {},
   "outputs": [],
   "source": [
    "# probability distribution of the ciphertext\n",
    "def prob(ciphertext):\n",
    "    a_dict = frequency(ciphertext)\n",
    "    m = len(ciphertext)\n",
    "    #print(a_dict)\n",
    "    dictionary = list('ABCDEFGHIJKLMNOPQRSTUVWXYZ')\n",
    "\n",
    "    prob_list = [0]*len(dictionary)\n",
    "    for i in range(len(dictionary)):      \n",
    "       if dictionary[i] in a_dict.keys():\n",
    "           prob_list[dictionary.index(dictionary[i])] = round(a_dict[dictionary[i]] / m, 3)\n",
    "       else:\n",
    "           prob_list[dictionary.index(dictionary[i])] = 0       \n",
    "\n",
    "    return prob_list"
   ]
  },
  {
   "cell_type": "code",
   "execution_count": 7,
   "metadata": {},
   "outputs": [],
   "source": [
    "# rewrite the string into rows of of length m \n",
    "def friedman(ciphertext, m):                   \n",
    "    # add padding to generate a matrix\n",
    "    if len(ciphertext) % m !=0:\n",
    "        padding = ' '\n",
    "        s_len = len(ciphertext) + m - (len(ciphertext) %m)\n",
    "    ciphertext=ciphertext.ljust(s_len, padding)\n",
    "    #split the string into chuncks of length m\n",
    "    matrix = [ciphertext[i:i+m] for i in range(0, len(ciphertext), m)]\n",
    "    #matrix2 = list(map(''.join, zip(*[iter(ciphertext)]*m)))\n",
    "\n",
    "    t_matrix = zip(*matrix)\n",
    "  \n",
    "    # rotate the cipher_dist by 1 for shift 1 to 25\n",
    "    # store the product of two distribution in mgvalue  \n",
    "    arr_ioc=[] #store ioc to verify the keyword length\n",
    "    cipher_rows=[]  #store rows obtained from the same shift together\n",
    "    for row in t_matrix:\n",
    "        s= ''.join(row).rstrip(' ') #remove the paading to get the correct length\n",
    "        ioc = idx_coincidence(s)\n",
    "        arr_ioc.append(round(ioc, 3))\n",
    "        cipher_rows.append(s)\n",
    "\n",
    "    print(\"Index of Coindicence using key length 7:\", arr_ioc)\n",
    "    return cipher_rows"
   ]
  },
  {
   "cell_type": "code",
   "execution_count": 8,
   "metadata": {},
   "outputs": [],
   "source": [
    "# Mutual index of coincidence per row per shift\n",
    "def find_key(ciphertext):\n",
    "    eng_dist = [.082,.015,.028,.043,.127,.022,.020,.061,.070,.002,.008,\n",
    "               .040,.024,0.067,.075,0.19,.001,.060,.063,.091,.028,.010,.023,\n",
    "               .001,.020,.001]\n",
    "    cipher_rows = friedman(ciphertext, 7)\n",
    "\n",
    "    mg_all = []\n",
    "    for r in cipher_rows:\n",
    "        cipher_dist = prob(r)\n",
    "        \n",
    "        # rotate the cipher_dist by 1 for shift 1 to 25\n",
    "        # store the product of two distribution in mgvalue\n",
    "        mgvalue = []\n",
    "\n",
    "        for i in range(26):\n",
    "            sum_product= 0\n",
    "\n",
    "            for j in range(len(cipher_dist)):\n",
    "                sum_product += eng_dist[j]*cipher_dist[j]\n",
    "            cipher_dist = cipher_dist[1:] + cipher_dist[:1]\n",
    "            mgvalue.append(round(sum_product, 3))\n",
    "            \n",
    "        mg_all.append(mgvalue)\n",
    "        mgvalue = []\n",
    "    return mg_all"
   ]
  },
  {
   "cell_type": "code",
   "execution_count": 9,
   "metadata": {},
   "outputs": [
    {
     "name": "stdout",
     "output_type": "stream",
     "text": [
      "Index of Coindicence using key length 7: [0.063, 0.062, 0.07, 0.072, 0.069, 0.076, 0.074]\n",
      "[[0.054, 0.039, 0.044, 0.047, 0.062, 0.042, 0.039, 0.043, 0.054, 0.038, 0.036, 0.051, 0.039, 0.044, 0.056, 0.067, 0.043, 0.039, 0.045, 0.061, 0.036, 0.039, 0.043, 0.034, 0.035, 0.041], [0.037, 0.053, 0.039, 0.039, 0.048, 0.038, 0.047, 0.052, 0.065, 0.04, 0.045, 0.04, 0.063, 0.041, 0.042, 0.043, 0.037, 0.04, 0.04, 0.055, 0.039, 0.051, 0.043, 0.062, 0.039, 0.036], [0.043, 0.043, 0.057, 0.041, 0.051, 0.043, 0.062, 0.037, 0.033, 0.035, 0.053, 0.041, 0.039, 0.05, 0.037, 0.047, 0.055, 0.071, 0.041, 0.041, 0.038, 0.058, 0.037, 0.039, 0.041, 0.036], [0.07, 0.041, 0.041, 0.039, 0.07, 0.043, 0.04, 0.041, 0.035, 0.041, 0.039, 0.062, 0.041, 0.045, 0.043, 0.07, 0.043, 0.039, 0.033, 0.056, 0.038, 0.034, 0.048, 0.034, 0.04, 0.045], [0.046, 0.034, 0.042, 0.035, 0.054, 0.039, 0.045, 0.041, 0.07, 0.043, 0.033, 0.045, 0.054, 0.041, 0.034, 0.051, 0.035, 0.046, 0.048, 0.067, 0.04, 0.039, 0.041, 0.066, 0.044, 0.037], [0.056, 0.04, 0.038, 0.047, 0.071, 0.04, 0.039, 0.046, 0.069, 0.037, 0.036, 0.044, 0.036, 0.034, 0.034, 0.061, 0.041, 0.046, 0.04, 0.069, 0.041, 0.035, 0.044, 0.062, 0.038, 0.03], [0.036, 0.04, 0.041, 0.063, 0.037, 0.046, 0.04, 0.062, 0.036, 0.034, 0.037, 0.053, 0.037, 0.039, 0.056, 0.037, 0.045, 0.056, 0.07, 0.039, 0.04, 0.038, 0.063, 0.037, 0.043, 0.045]]\n"
     ]
    }
   ],
   "source": [
    "# Use the mutual index of coincidence for each row to determine the key \n",
    "val = find_key(ciphertext)\n",
    "print(val)"
   ]
  },
  {
   "cell_type": "code",
   "execution_count": 10,
   "metadata": {},
   "outputs": [],
   "source": [
    "# the highest Ic of each row is not unique, so the key is determined based on visual inspection\n",
    "key = 'PIRATES'\n",
    "\n",
    "# mapping\n",
    "dictionary = list('ABCDEFGHIJKLMNOPQRSTUVWXYZ')"
   ]
  },
  {
   "cell_type": "code",
   "execution_count": 11,
   "metadata": {},
   "outputs": [
    {
     "name": "stdout",
     "output_type": "stream",
     "text": [
      "Index of Coindicence using key length 7: [0.063, 0.062, 0.07, 0.072, 0.069, 0.076, 0.074]\n"
     ]
    }
   ],
   "source": [
    "# rewrite the ciphertext as a table with 7 rows\n",
    "cipher_rows=friedman(ciphertext, 7)\n",
    "\n",
    "s=''\n",
    "plaintext=[]\n",
    "for i in range(len(cipher_rows)):\n",
    "    for c in cipher_rows[i]:\n",
    "        temp = (dictionary.index(c) - dictionary.index(key[i])) %26     \n",
    "        s+=dictionary[temp]\n",
    "\n",
    "    plaintext.append(s)\n",
    "    #print(len(s), s)\n",
    "    s=''"
   ]
  },
  {
   "cell_type": "code",
   "execution_count": 12,
   "metadata": {},
   "outputs": [],
   "source": [
    "# prepare each line for matrix transformation\n",
    "matrix2 =[]\n",
    "\n",
    "for line in plaintext:\n",
    "    if len(line) < len(plaintext[0]):\n",
    "        padding=' '\n",
    "        length = len(line) + len(plaintext[0]) - len(line)\n",
    "        line = line.ljust(length, padding)\n",
    "    matrix2.append(line.lower())\n",
    "    \n",
    "t_matrix2 = zip(*matrix2)"
   ]
  },
  {
   "cell_type": "code",
   "execution_count": 13,
   "metadata": {},
   "outputs": [
    {
     "name": "stdout",
     "output_type": "stream",
     "text": [
      "psychiatristsarenotallowedtopracticepsychiatryiftheywereinsaneitisrequiredthattheyliterallydidnotknowwhattheyweretalkingabouttothisonecouldcounterthatyoudonothavetobeinfectedwithpneumoniainordeertoknowhowtocureitandyoudonothavetobeinfectedwithinsanitytoknowhowtocureiteitherbuttherebuttaltothatgoestothecoreofthewholeproblempneumoniaisabiologicalpatternitisscientificallyverifiableinsanityontheotherhandisanintellectualpatternitmayhavebiologicalcausesbutithasnophysicalorbiologicalrealitynoscientificinstrumentcanbeproducedincourttoshowwhoisinsaneandwhoissaneiftherewereonlyonepersonintheworldisthereanywayhecouldbeinsaneinsanityalwaysexistsinrelationtoothersitisasocialandintellectualdeviationnotabiologicaldeviationtheonlytestforinsanityinacourtoflaworanywhereelseisconformitytoaculturalstatusquothisbeingsoitfollowsthattheassignmentofmedicaldoctorstotreatinsanityisamisuseoftheirtrainingintellectualheresyisnotreallytheirbusinessmedicaldoctorsaretrainedtolookatthingsfromabiologicalperspective     \n"
     ]
    }
   ],
   "source": [
    "#concatenate the character and output to the screen\n",
    "ptxt='' \n",
    "for row in t_matrix2:\n",
    "    ptxt+=''.join(row)\n",
    "print(ptxt)"
   ]
  },
  {
   "cell_type": "markdown",
   "metadata": {},
   "source": [
    "Plaintext: Psychiatrists are not allowed to practice psychiatry if they were insane. It is required that they literally did not know what they were talking about. To this, one could counter that you do not have to be infected with pneumonia in ordeer to know how to cure it and you do not have to be infected with insanity to know how to cure it either. But the rebuttal to that goes to the core of the whole problem. Pneumonia is a biological pattern. It is scientifically verifiable. Insanity on the other hand is an intellectual pattern. It may have biological causes but it has no physical or biological reality. No scientific instrument can be produced in court to show who is insane and who is sane. If there were only one person in the world, is there any way he could be insane? Insanity always exists in relation to others. It is a social and intellectual deviation, not a biological deviation. The only test for insanity in a court of law or anywhere else is conformity to a cultural status quo. This being so, it follows that the assignment of medical doctors to treat insanity is a misuse of their training. Intellectual heresy is not really their business. Medical doctors are trained to look at things from a biological perspective."
   ]
  }
 ],
 "metadata": {
  "kernelspec": {
   "display_name": "Python 3",
   "language": "python",
   "name": "python3"
  },
  "language_info": {
   "codemirror_mode": {
    "name": "ipython",
    "version": 3
   },
   "file_extension": ".py",
   "mimetype": "text/x-python",
   "name": "python",
   "nbconvert_exporter": "python",
   "pygments_lexer": "ipython3",
   "version": "3.7.6"
  }
 },
 "nbformat": 4,
 "nbformat_minor": 4
}
