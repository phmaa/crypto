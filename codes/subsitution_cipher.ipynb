{
 "cells": [
  {
   "cell_type": "markdown",
   "metadata": {},
   "source": [
    "### Substitution Cipher\n",
    "    This program uses the frequency analysis of the English language to determine the plaintext and the key used."
   ]
  },
  {
   "cell_type": "code",
   "execution_count": 1,
   "metadata": {},
   "outputs": [],
   "source": [
    "# analyze the signle letter frequency of the ciphertext\n",
    "def single_freq(ciphertext):\n",
    "    a_dict = {}\n",
    "\n",
    "    for i in range(len(ciphertext)):\n",
    "        if ciphertext[i] not in a_dict.keys():\n",
    "            a_dict[ciphertext[i]] = 1\n",
    "        else:\n",
    "            a_dict[ciphertext[i]] += 1\n",
    "            \n",
    "    sorted_dict = sorted(a_dict.items(), \n",
    "                                key=lambda x: x[1], reverse=True)\n",
    "    single_dict = []\n",
    "    for i in range(len(sorted_dict)) :\n",
    "        if sorted_dict[i][1] > 20:\n",
    "            single_dict.append(sorted_dict[i])\n",
    "    #print(a_dict.keys(), a_dict.values())\n",
    "    return single_dict"
   ]
  },
  {
   "cell_type": "code",
   "execution_count": 2,
   "metadata": {},
   "outputs": [],
   "source": [
    "# analyze the bigram frequency of the ciphertext\n",
    "def bigram(ciphertext):\n",
    "    b_dict = {}\n",
    "\n",
    "    for i in range(len(ciphertext) -1 ):\n",
    "        for j in range(i+1, len(ciphertext)):\n",
    "            temp = '' #temp storage for the bigram\n",
    "            for k in range(i, i+2):\n",
    "                temp += ciphertext[k]\n",
    "        if temp not in b_dict.keys():\n",
    "            b_dict[temp] = 1\n",
    "\n",
    "        else:\n",
    "            b_dict[temp] += 1\n",
    "        temp = ''\n",
    "    b_dict_sorted = sorted(b_dict.items(), key=lambda x:x[1], reverse=True)\n",
    "    bi_dict = [] # store the bigrams with a frequency of 4 and above\n",
    "    for i in range(len(b_dict_sorted)):\n",
    "        if b_dict_sorted[i][1] > 5:\n",
    "            bi_dict.append(b_dict_sorted[i])\n",
    "    return bi_dict"
   ]
  },
  {
   "cell_type": "code",
   "execution_count": 3,
   "metadata": {},
   "outputs": [],
   "source": [
    " # analyze trigram frequency\n",
    "def trigram(ciphertext):\n",
    "    t_dict = {}\n",
    "\n",
    "    for i in range(len(ciphertext) -2):\n",
    "        for j in range(i+1, len(ciphertext) -1):\n",
    "            temp = ''\n",
    "            for k in range(i, i+3):\n",
    "                temp += ciphertext[k]\n",
    "        if temp not in t_dict.keys():\n",
    "            t_dict[temp] = 1\n",
    "        else:\n",
    "            t_dict[temp] += 1\n",
    "        temp = ''\n",
    "    \n",
    "    # sort the trigram by frequency\n",
    "    t_dict_sorted = sorted(t_dict.items(), key=lambda x:x[1], reverse=True)\n",
    "    tri_dict = []\n",
    "    for i in range(len(t_dict_sorted)):\n",
    "        if t_dict_sorted[i][1] > 2:\n",
    "            tri_dict.append(t_dict_sorted[i])\n",
    "    return tri_dict"
   ]
  },
  {
   "cell_type": "code",
   "execution_count": 4,
   "metadata": {},
   "outputs": [],
   "source": [
    "ciphertext = 'IGBPTLZGYMGSWSTKSCKVSJEHKOGSFGBJFGSSNETAKBBDOERQUXKVSZIBWSYSTKSTRSVZYKVSMGBMSGKXKVZKZUUKVSKP\\\n",
    "STKXYEHRVZGZRKSGYBFKVSSTAUEYVZUMVZISKZMMSZGYETEKZKUSZYKBTRSYORVYSTKSTRSYZGSRZUUSCMZTAGZJYZTCKVSXZGSOYSCFBGM\\\n",
    "GZRKERSPVSTUSZGTETAKXMSPGEKETATBPRZTXBOKSUUJSPVXEOYSCZMZTAGZJZYMZGKBFKVSMUZETKSHKFBGKVEYREMVSGZUY\\\n",
    "BRZTXBORBJSOMPEKVZMZTAGZJXBOGYSUFPEKVBOKABBAUETA'"
   ]
  },
  {
   "cell_type": "code",
   "execution_count": 5,
   "metadata": {},
   "outputs": [
    {
     "name": "stdout",
     "output_type": "stream",
     "text": [
      "[('S', 43), ('Z', 33), ('K', 33), ('G', 24), ('T', 24)]\n"
     ]
    }
   ],
   "source": [
    "# generate the single letter frequency of the ciphertext\n",
    "s_cipher = single_freq(ciphertext)\n",
    "print(s_cipher)"
   ]
  },
  {
   "cell_type": "code",
   "execution_count": 6,
   "metadata": {},
   "outputs": [
    {
     "name": "stdout",
     "output_type": "stream",
     "text": [
      "[('KV', 11), ('VS', 9), ('ST', 8), ('TA', 8), ('ZG', 7), ('KS', 6), ('ET', 6), ('VZ', 6), ('GZ', 6), ('ZT', 6)]\n"
     ]
    }
   ],
   "source": [
    "# an array of bigrams with frequency > 5\n",
    "double = bigram(ciphertext)  \n",
    "print(double)"
   ]
  },
  {
   "cell_type": "code",
   "execution_count": 7,
   "metadata": {},
   "outputs": [
    {
     "name": "stdout",
     "output_type": "stream",
     "text": [
      "[('KVS', 7), ('STK', 4), ('TKS', 4), ('ETA', 4), ('TRS', 3), ('MZT', 3), ('ZTA', 3), ('TAG', 3), ('AGZ', 3), ('GZJ', 3), ('XBO', 3)]\n"
     ]
    }
   ],
   "source": [
    "# an array of trigrams with frequency > 2 \n",
    "triple = trigram(ciphertext)   \n",
    "print(triple)"
   ]
  },
  {
   "cell_type": "code",
   "execution_count": 8,
   "metadata": {},
   "outputs": [
    {
     "name": "stdout",
     "output_type": "stream",
     "text": [
      "brownjarspreventedthemixturefromfreezingtooquicklytheabovesentencehasthepropertythatallthetwentysixcharactersoftheenglishalphabetappearsinitatleastoncesuchsentencesarecalledpangramsandtheyareusedforpracticewhenlearningtypewritingnowcanyoutellmewhyiusedapangramaspartoftheplaintextforthiscipheralsocanyoucomeupwithapangramyourselfwithoutgoogling\n"
     ]
    }
   ],
   "source": [
    "# subsitute the most frequent single character with letter 'E' and print the output\n",
    "# S->e, Z->t, VS->he, ST->en, SG->er, TA->ng, KVS->the, STK->ent, \n",
    "e = s_cipher[0][0]\n",
    "s = ''  #store the partial solution\n",
    "for i in range(len(ciphertext)):\n",
    "    if ciphertext[i]=='K':\n",
    "        s+='t'\n",
    "    elif ciphertext[i]=='V':\n",
    "        s+='h'\n",
    "    elif ciphertext[i]=='C':\n",
    "        s+='d' #guess\n",
    "    elif ciphertext[i]=='S':\n",
    "        s+='e'\n",
    "    elif ciphertext[i]=='G':\n",
    "        s+= 'r' #guess \n",
    "    elif ciphertext[i] == 'Y':\n",
    "        s+= 's'\n",
    "    elif ciphertext[i]=='Z':\n",
    "        s+='a'\n",
    "    elif ciphertext[i]=='T':\n",
    "        s+='n'\n",
    "    elif ciphertext[i]=='R':\n",
    "        s+='c'\n",
    "    elif ciphertext[i]=='U':\n",
    "        s+='l'\n",
    "    elif ciphertext[i]=='E':\n",
    "        s+='i'\n",
    "    elif ciphertext[i]=='A':\n",
    "        s+='g'\n",
    "    elif ciphertext[i]=='B':\n",
    "        s+='o'\n",
    "    elif ciphertext[i]=='F':\n",
    "        s+='f'\n",
    "    elif ciphertext[i]=='M':\n",
    "        s+='p'\n",
    "    elif ciphertext[i]=='X':\n",
    "        s+='y'\n",
    "    elif ciphertext[i]=='I':\n",
    "        s+='b'\n",
    "    elif ciphertext[i]=='P':\n",
    "        s+='w'\n",
    "    elif ciphertext[i]=='H':\n",
    "        s+='x'\n",
    "    elif ciphertext[i]=='W':\n",
    "        s+='v'  \n",
    "    elif ciphertext[i]=='O':\n",
    "        s+='u'\n",
    "    elif ciphertext[i]=='J':\n",
    "        s+='m'  \n",
    "    elif ciphertext[i]=='D':\n",
    "        s+='q'\n",
    "    elif ciphertext[i]=='L':\n",
    "        s+='j'  \n",
    "    elif ciphertext[i]=='N':\n",
    "        s+='z'  \n",
    "    elif ciphertext[i]=='Q':\n",
    "        s+='k'              \n",
    "    else:\n",
    "        s+='_ '\n",
    "print(''.join(s))"
   ]
  },
  {
   "cell_type": "markdown",
   "metadata": {},
   "source": [
    "Plaintext: Brown jars prevented the mixture from freezing too quickly.  The above sentence has the property that all the twenty six characters of the english alphabet appears in it at least once. Such sentences are called pangrams and they are used for practice when learning typewriting. Now can you tell me why I used a pangram as part of the plaintext for this cipher? Also, can you come up with a pangram yourself without googling?"
   ]
  },
  {
   "cell_type": "code",
   "execution_count": null,
   "metadata": {},
   "outputs": [],
   "source": []
  }
 ],
 "metadata": {
  "kernelspec": {
   "display_name": "Python 3",
   "language": "python",
   "name": "python3"
  },
  "language_info": {
   "codemirror_mode": {
    "name": "ipython",
    "version": 3
   },
   "file_extension": ".py",
   "mimetype": "text/x-python",
   "name": "python",
   "nbconvert_exporter": "python",
   "pygments_lexer": "ipython3",
   "version": "3.7.6"
  }
 },
 "nbformat": 4,
 "nbformat_minor": 4
}
