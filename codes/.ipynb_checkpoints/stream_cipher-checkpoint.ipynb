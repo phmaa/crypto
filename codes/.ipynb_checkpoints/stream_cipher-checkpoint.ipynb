{
 "cells": [
  {
   "cell_type": "markdown",
   "metadata": {},
   "source": [
    "### Stream cipher\n",
    "    This program consists of part V of decrypting a LFSR based synchronous stream cipher cryptosystem after finding the IV and the feedback coefficients of the LFSR. A 32-character alphabet with a-z corresponding to 0-25, blank=26, ?=27, !=28, .=29, '=30, $=31 and encoding the number corresponding to each character using 5 bits (in binary system)."
   ]
  },
  {
   "cell_type": "code",
   "execution_count": 1,
   "metadata": {},
   "outputs": [],
   "source": [
    "# takes IV and generate a key stream with the length of 2^m-1\n",
    "def stream_generator(m, iv):\n",
    "    stream = '01010' #store keystream\n",
    "    stream_len=pow(2, m)-1\n",
    "    #perform bitwise operation using the recurrence relation\n",
    "    #z=z0 + z3 mod 5\n",
    "\n",
    "    while len(stream)<pow(2, m)-1:\n",
    "        bit = int(iv[0]) ^ int(iv[3])\n",
    "        stream+=str(bit)\n",
    "        #shift iv\n",
    "        iv = iv[1:]\n",
    "        iv+=str(bit)\n",
    "        \n",
    "    return stream"
   ]
  },
  {
   "cell_type": "code",
   "execution_count": 2,
   "metadata": {},
   "outputs": [],
   "source": [
    "# prepare keystream array for bitwise operation\n",
    "def pad_key(msg, stream):\n",
    "    # pad the keystream\n",
    "    multiple = len(msg)//len(stream)\n",
    "    remainder = len(msg)%len(stream)\n",
    "\n",
    "    new_stream = ''\n",
    "    for i in range(multiple):\n",
    "        new_stream += stream\n",
    "    \n",
    "    new_stream = new_stream + stream[:27]\n",
    "    return new_stream"
   ]
  },
  {
   "cell_type": "code",
   "execution_count": 3,
   "metadata": {},
   "outputs": [],
   "source": [
    "# process the ciphertext for bitwise operation\n",
    "def process_msg(msg, stream):\n",
    "    ptxt_bits = ''\n",
    "\n",
    "    for i in range(len(msg)):\n",
    "        temp = int(msg[i]) ^ int(stream[i])\n",
    "        ptxt_bits+=str(temp)\n",
    "\n",
    "    return ptxt_bits"
   ]
  },
  {
   "cell_type": "code",
   "execution_count": 4,
   "metadata": {},
   "outputs": [],
   "source": [
    "def decrypt(msg_bits):\n",
    "    a_dict='abcdefghijklmnopqrstuvwxyz ?!.\\'$'\n",
    "    ptxt=''\n",
    "    for i in range(0, len(msg_bits), 5):\n",
    "        bits=msg_bits[i:i+5]\n",
    "        char=int(bits, 2)\n",
    "        ptxt+=a_dict[char]\n",
    "    return ptxt  "
   ]
  },
  {
   "cell_type": "code",
   "execution_count": 5,
   "metadata": {},
   "outputs": [
    {
     "name": "stdout",
     "output_type": "stream",
     "text": [
      "hi! isn't this too easy?\n"
     ]
    }
   ],
   "source": [
    "if __name__ == '__main__':\n",
    "    msg='011011010101101001000010110110010001000001011001011010110101010100010110110111001110100111110110111110110101010000101111'\n",
    "    iv = '01010'\n",
    "    m=5\n",
    "    stream=stream_generator(m, iv)\n",
    "\n",
    "    keystream = pad_key(msg, stream)\n",
    "\n",
    "    bits=process_msg(msg, keystream)\n",
    "\n",
    "    ptxt = decrypt(bits)\n",
    "    print(ptxt)"
   ]
  },
  {
   "cell_type": "code",
   "execution_count": null,
   "metadata": {},
   "outputs": [],
   "source": []
  }
 ],
 "metadata": {
  "kernelspec": {
   "display_name": "Python 3",
   "language": "python",
   "name": "python3"
  },
  "language_info": {
   "codemirror_mode": {
    "name": "ipython",
    "version": 3
   },
   "file_extension": ".py",
   "mimetype": "text/x-python",
   "name": "python",
   "nbconvert_exporter": "python",
   "pygments_lexer": "ipython3",
   "version": "3.7.6"
  }
 },
 "nbformat": 4,
 "nbformat_minor": 4
}
