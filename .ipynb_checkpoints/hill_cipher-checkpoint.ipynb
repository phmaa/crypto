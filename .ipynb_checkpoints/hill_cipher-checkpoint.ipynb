{
 "cells": [
  {
   "cell_type": "markdown",
   "metadata": {},
   "source": [
    "### Hill Cipher\n",
    "    This program uses the result of the bigram analysis to determine the key of a 2x2 Hill cipher and the plaintext."
   ]
  },
  {
   "cell_type": "code",
   "execution_count": 1,
   "metadata": {},
   "outputs": [],
   "source": [
    "# analyze the bigram frequency of the ciphertext\n",
    "def bigram(ciphertext):\n",
    "    b_dict = {}\n",
    "\n",
    "    for i in range(len(ciphertext) -1 ):\n",
    "        for j in range(i+1, len(ciphertext)):\n",
    "            temp = '' #temp storage for the bigram\n",
    "            for k in range(i, i+2):\n",
    "                temp += ciphertext[k]\n",
    "        if temp not in b_dict.keys():\n",
    "            b_dict[temp] = 1\n",
    "\n",
    "        else:\n",
    "            b_dict[temp] += 1\n",
    "        temp = ''\n",
    "    b_dict_sorted = sorted(b_dict.items(), key=lambda x:x[1], reverse=True)\n",
    "    bi_dict = [] # store the bigrams with a frequency of 4 and above\n",
    "    for i in range(len(b_dict_sorted)):\n",
    "        if b_dict_sorted[i][1] > 6:\n",
    "            bi_dict.append(b_dict_sorted[i])\n",
    "    return bi_dict"
   ]
  },
  {
   "cell_type": "code",
   "execution_count": 2,
   "metadata": {},
   "outputs": [],
   "source": [
    "# find invertible elements and their inverse\n",
    "def is_invertible(a, b):\n",
    "    if b == 0:\n",
    "        return False\n",
    "    elif b==1:\n",
    "        return True\n",
    "    elif a%b==1:\n",
    "        return True\n",
    "    return is_invertible(b, a%b)"
   ]
  },
  {
   "cell_type": "code",
   "execution_count": 3,
   "metadata": {},
   "outputs": [],
   "source": [
    "def find_invertibles():\n",
    "    invertibles = dict()\n",
    "    for i in range(26):\n",
    "        if is_invertible(26, i):\n",
    "            # find the inverse of each element that is invertible\n",
    "            for j in range(26):\n",
    "                if i*j %26 == 1:\n",
    "                    invertibles[i]=j\n",
    "    return invertibles"
   ]
  },
  {
   "cell_type": "code",
   "execution_count": 4,
   "metadata": {},
   "outputs": [],
   "source": [
    "# helper function to map pairs of letters to a 2x2 matrix\n",
    "def letter_to_matrix(a_list):\n",
    "    a_dict = {'A':0, 'B':1, 'C':2, 'D':3, 'E':4, 'F':5, 'G':6, 'H':7, 'I':8, \n",
    "    'J':9, 'K':10, 'L':11,'M':12, 'N':13, 'O':14, 'P':15,'Q':16,'R':17,\n",
    "    'S':18, 'T':19,'U':20,'V':21,'W':22,'X':23,'Y':24,'Z':25}\n",
    "    letters = []\n",
    "    num = []\n",
    "    for items in a_list:\n",
    "        letters.append(list(items))\n",
    "    for i in range(len(letters)):\n",
    "        num.append((a_dict[letters[i][0]], a_dict[letters[i][1]]))\n",
    "    return num"
   ]
  },
  {
   "cell_type": "code",
   "execution_count": 5,
   "metadata": {},
   "outputs": [],
   "source": [
    "# helper function to map ciphertext into pairs of numberic value\n",
    "def map_cipher(ciphertext):\n",
    "    a_dict = {'A':0, 'B':1, 'C':2, 'D':3, 'E':4, 'F':5, 'G':6, 'H':7, 'I':8, \n",
    "    'J':9, 'K':10, 'L':11,'M':12, 'N':13, 'O':14, 'P':15,'Q':16,'R':17,\n",
    "    'S':18, 'T':19,'U':20,'V':21,'W':22,'X':23,'Y':24,'Z':25}\n",
    "    cipher_values = []\n",
    "    i = 0\n",
    "    while i < len(ciphertext):\n",
    "        cipher_values.append((a_dict[ciphertext[i]], a_dict[ciphertext[i+1]]))\n",
    "        i+=2\n",
    "    return cipher_values"
   ]
  },
  {
   "cell_type": "code",
   "execution_count": 6,
   "metadata": {},
   "outputs": [],
   "source": [
    "# helper function to calculate the determinant of a matrix\n",
    "def determinant(a_list):   \n",
    "    det = (a_list[0][0]*a_list[1][1] - a_list[0][1]*a_list[1][0])%26\n",
    "    return det"
   ]
  },
  {
   "cell_type": "code",
   "execution_count": 7,
   "metadata": {},
   "outputs": [],
   "source": [
    "#helper function    \n",
    "def inverse_matrix(a_list):\n",
    "    inverse = []\n",
    "    inverse.append((a_list[1][1], -(a_list[0][1])))\n",
    "    inverse.append((-(a_list[1][0]), a_list[0][0]))\n",
    "    return inverse"
   ]
  },
  {
   "cell_type": "code",
   "execution_count": 8,
   "metadata": {},
   "outputs": [],
   "source": [
    "ciphertext='TVWKIOZMYSMYCELUYAQVYOKUHKEDMIZVLUQVKTDQQVULHLGBJZMTOSULOISXL\\\n",
    "DDVYSSOOIQGQQGBBZBJUIFRAXFUEMZLJMCBHBICABLUQWOIFEMVSERPANMSLULUYACLMIGBCBL\\\n",
    "FQSQGVEKPKYNHANCENAULNXWSIWIFBZSLSKUIZLHBFTCTAYLTFKQVOZMTNXKHKAWSESVZESLUOI\\\n",
    "GQQWMGOKCELUYAQVYOMTSLSKYXSLWSESLUSKJLKEBVCYVZQSLUYASUJZIOCZUDJDKDISKHGBBZG\\\n",
    "BAXYSBSIBNAWYPGBZCELUYAQVYOMTQQRPIWSVWIWYMTISSXBYEIQQLUMVNVSVSXBZCZYBLTLDDIE\\\n",
    "MIRPBMEANFNTVLUANCKVZLUOIEDPMOIQTOIKQDTNXKSFRNLPHEMANANXWBZLFEIHQYSTOBZCELUY\\\n",
    "AQVYOEAEMMWRPNVYAULQQHBTOULJPWSJPKQTBTVGBVXIAKTGSDDBHIFWIKHANSTEDLGQXSKVECARQHBKMRVQK'"
   ]
  },
  {
   "cell_type": "code",
   "execution_count": 9,
   "metadata": {},
   "outputs": [],
   "source": [
    "# mapping\n",
    "a_dict = {'A':0, 'B':1, 'C':2, 'D':3, 'E':4, 'F':5, 'G':6, 'H':7, 'I':8, \n",
    "    'J':9, 'K':10, 'L':11,'M':12, 'N':13, 'O':14, 'P':15,'Q':16,'R':17,\n",
    "    'S':18, 'T':19,'U':20,'V':21,'W':22,'X':23,'Y':24,'Z':25}\n",
    "key_list = list(a_dict.keys())\n",
    "val_list = list(a_dict.values())"
   ]
  },
  {
   "cell_type": "code",
   "execution_count": 10,
   "metadata": {},
   "outputs": [
    {
     "name": "stdout",
     "output_type": "stream",
     "text": [
      "{1: 1, 3: 9, 5: 21, 7: 15, 9: 3, 11: 19, 15: 7, 17: 23, 19: 11, 21: 5, 23: 17, 25: 25}\n"
     ]
    }
   ],
   "source": [
    "# get all invertibl elements and their inverse\n",
    "invertibles = find_invertibles()\n",
    "print(invertibles)"
   ]
  },
  {
   "cell_type": "code",
   "execution_count": 11,
   "metadata": {},
   "outputs": [],
   "source": [
    "# use 2 most common digrams as the plaintext pairs (x1, x2) & (x3, x4)\n",
    "plaintext_pair = [[19, 7], [7, 4]] # ('TH', 'HE)"
   ]
  },
  {
   "cell_type": "code",
   "execution_count": 12,
   "metadata": {},
   "outputs": [
    {
     "name": "stdout",
     "output_type": "stream",
     "text": [
      "1\n"
     ]
    }
   ],
   "source": [
    "# find out whether x inverse exist\n",
    "det_x = determinant(plaintext_pair)\n",
    "print(det_x)"
   ]
  },
  {
   "cell_type": "code",
   "execution_count": 13,
   "metadata": {},
   "outputs": [
    {
     "name": "stdout",
     "output_type": "stream",
     "text": [
      "[(4, -7), (-7, 19)]\n",
      "4 19 19 19\n"
     ]
    }
   ],
   "source": [
    "# if x is invertible, get the inverse matrix\n",
    "if det_x in invertibles.keys():\n",
    "    det_inverse = invertibles[det_x]\n",
    "    x_inverse = inverse_matrix(plaintext_pair)\n",
    "x1=(det_inverse*x_inverse[0][0])%26\n",
    "x2=(det_inverse*x_inverse[0][1])%26\n",
    "x3=(det_inverse*x_inverse[1][0])%26\n",
    "x4=(det_inverse*x_inverse[1][1])%26 \n",
    "print(x_inverse)\n",
    "print(x1, x2, x3, x4)"
   ]
  },
  {
   "cell_type": "code",
   "execution_count": 14,
   "metadata": {},
   "outputs": [
    {
     "name": "stdout",
     "output_type": "stream",
     "text": [
      "[((11, 20), (16, 21)), ((11, 20), (6, 1)), ((11, 20), (1, 25)), ((11, 20), (18, 11)), ((16, 21), (1, 25)), ((6, 1), (1, 25)), ((1, 25), (18, 11))]\n",
      "[7, 5, 5, 5, 7, 11, 9]\n"
     ]
    }
   ],
   "source": [
    "# determine K using an array of bigrams with frequency > 6 to geneate all possible pairs  \n",
    "double = bigram(ciphertext)\n",
    "cipher_pair = []  # hold the ciphertext pairs that inverse matrix exists\n",
    "det_inverse = []  # hold the corresponding inverse of the determinant for each pair\n",
    "for i in range(len(double)-1):\n",
    "    for j in range(i+1, len(double)):\n",
    "        (a, b) = letter_to_matrix((double[i][0], double[j][0])) # map to numeric value\n",
    "        det_y = determinant((a, b)) # find out if determinant exists for the pair\n",
    "        if det_y in invertibles.keys():              \n",
    "            cipher_pair.append((a, b))\n",
    "            det_inverse.append(invertibles[det_y])\n",
    "print(cipher_pair)\n",
    "print(det_inverse)"
   ]
  },
  {
   "cell_type": "code",
   "execution_count": 15,
   "metadata": {},
   "outputs": [
    {
     "name": "stdout",
     "output_type": "stream",
     "text": [
      "[((10, 11), (19, 25)), ((2, 21), (11, 9)), ((11, 9), (20, 23)), ((22, 3), (5, 17)), ((5, 13), (11, 16)), ((17, 11), (3, 0)), ((8, 23), (23, 8))]\n"
     ]
    }
   ],
   "source": [
    "# determine keys using each invertible ciphertext pair\n",
    "keys = []\n",
    "\n",
    "for i in range(len(cipher_pair)):\n",
    "    y1 = cipher_pair[i][0][0]\n",
    "    y2 = cipher_pair[i][0][1]\n",
    "    y3 = cipher_pair[i][1][0]\n",
    "    y4 = cipher_pair[i][1][1]\n",
    "    #print(y1, y2, y3, y4)\n",
    "    k1 = (x1*y1 + x2*y3)%26\n",
    "    k2 = (x1*y2 + x2*y4)%26\n",
    "    k3 = (x3*y1 + x4*y3)%26\n",
    "    k4 = (x3*y2 + x4*y4)%26\n",
    "    keys.append(((k1, k2), (k3, k4)))\n",
    "print(keys)"
   ]
  },
  {
   "cell_type": "code",
   "execution_count": 16,
   "metadata": {},
   "outputs": [
    {
     "name": "stdout",
     "output_type": "stream",
     "text": [
      "[[(25, -11), (-19, 10)], [(9, -21), (-11, 2)], [(23, -9), (-20, 11)], [(17, -3), (-5, 22)], [(16, -13), (-11, 5)], [(0, -11), (-3, 17)], [(8, -23), (-23, 8)]]\n"
     ]
    }
   ],
   "source": [
    "#compute key reverse\n",
    "keys_inverse =[]\n",
    "for i in range(len(keys)):\n",
    "    keys_inverse.append(inverse_matrix(keys[i]))\n",
    "print(keys_inverse)"
   ]
  },
  {
   "cell_type": "code",
   "execution_count": 17,
   "metadata": {},
   "outputs": [
    {
     "name": "stdout",
     "output_type": "stream",
     "text": [
      "[((19, 1), (23, 18)), ((19, 25), (23, 10)), ((11, 7), (4, 3)), ((7, 11), (1, 6)), ((8, 13), (1, 9)), ((0, 9), (19, 5)), ((20, 1), (1, 20))]\n"
     ]
    }
   ],
   "source": [
    "# compute the inverse matrix and store in key_matrix\n",
    "key_matrix=[]\n",
    "for i in range(len(keys_inverse)):\n",
    "    det = det_inverse[i]\n",
    "    #print(det)\n",
    "    k1 = (det*keys_inverse[i][0][0])%26\n",
    "    k2 = (det*keys_inverse[i][0][1])%26\n",
    "    k3 = (det*keys_inverse[i][1][0])%26\n",
    "    k4 = (det*keys_inverse[i][1][1])%26\n",
    "    key_matrix.append(((k1, k2), (k3, k4)))\n",
    "print(key_matrix)"
   ]
  },
  {
   "cell_type": "code",
   "execution_count": 18,
   "metadata": {},
   "outputs": [
    {
     "name": "stdout",
     "output_type": "stream",
     "text": [
      "19 1 23 18\n",
      "mhyugaxhmkacawthoyheyqagzfpgwawnthhedojfhejkwxhysrpqeajkicnqsnurmkokicauwshywjshsiszjyjbomapfrjuazqsxsthewicfzjasmsbnasyththoyfswahyjumxqcauxppuoasjnaawnnjkwlaiiohuwjxiaqsiapazmjhggqwpndhejwpqwlngikaiwqmdwqthicoiewcqcmawthoyheyqpqxiaqxwxiaiwqthaqizweipssmdqcthoywosrgapkhwglzmuunghywjhyjymkrntannimhtwjawthoyheyqpqwssbiotgekimpquunqzraswsthjacbtgnqwjpklqwpsnhromxcwhignaefmhthnaiamdthicpgpxicnuicmmahwlgwszgdelomnanahdwjmxashjmkhlwjawthoyheyqyeomgssbcboyjkwsazhljkwtaiwtmmulmhhystwidoiswfyxhuekngnazwpgjpboaqxpmcptazysafoo\n",
      "19 25 23 10\n",
      "mjyagcxrmaauamthochmymaizppawqwdthhmdyjbhmjmwzheshpwekjmionestuzmaosioaswohewpslsisjjwjnomahfhjiadqmxkthewiofjjqswsdnasmththocfewqhejimnqiasxtpkowsfnaamnnjmwjaciehqwpxoaesiahadmdhgggwxnrhmjcpwwjniiqacwumvwuthiooyewcwciamthochmympwxoaexyxoacwuthaeixweibsemvqithocwashgcpohkgvzuuqnihewphejwmarxtcnnikhtwpamthochmympwwosdietkegikpwuqnezfaywothjqcptknewppolmwxsthzomxgwvicnaevmjthnaiumvthiopapbionsiomuafwjgosjgtedomnanahpwpmnayhxmahrwpamthochmymywomgasdcpocjmwoadhrjmwlacwlmuurmjhesbwsdyiswbyrhqegninazqpajxbgaextmypnadygalog\n",
      "11 7 4 3\n",
      "howcouldyouamathematicianbelievethatextraterrestrialsweresendingyoumessagesthevisitiorfromharvardaskedthewestvirginianwiththemoviestarlooksandolympianmannerbecausetheideasihadaboutsupernaturalbeingscametomethesamewaymymathematicalideasdidcametheanswersoitookthemseriouslythusbeginsthestoryofjohnnashthemathematicalgeniuswhowasalegendbyagethirtywhenheslippedintomadnessandwhothankstotheselflessnessofabeautifulwomanandtheloyaltyofthemathematicscommunityemergedafterdecadesofghostlikeexistencetowinanobelprizeandworldacclaim\n",
      "7 11 1 6\n",
      "yxiqsqfjeieqsuthmedqakmwhhfkoyolthdqlqlzdqvainrukpzmmcvacutycjqdeikwcuoeymrugfqnsiabxidtomedxppcyfgwbgthewcunbbyaoernaygththmezkoyrupcevayoevvhsquudnasunnvakvqmamjogfhegysiedyfcnhgyosbtldqtszmkvzwsgqmuwqruwthcuggewmmegsuthmedqakzmhegyjmheqmuwthgywjwechmkqraythmeqgkpsqnqneonvywozwrugfruxieizpfqnnwwhtgfsuthmedqakzmymeramrmgewwzmwotyfzkoymthbyijrmtygfnqnksbcjddomvicpkanawdyxthnayeqrthcufkndcubecuiyorkvkkabybizomnanabvgfevkonreirhgfsuthmedqakcsomceerijmevaymyfrhvaahqmahiyehyxruofeklqisyzobjogezwnapafkfbfcgyvvowfxyfeakbsc\n",
      "8 13 1 9\n",
      "ruemawercgqiukelkathywwyozjbaunuelthvpobthpvpixjtelpagpvqulznotucgcwquecooxjherqmufkxzilsedigrrjfwosbjeluqqusxnhskvsnnkgelelkabvauxjrjpgqgecqxrfaihynnukanpvxmmgiqrthezvymmudifwhcjpyidcyzthhrlpxmjlcamgygleygelqumouqycsmukelkathywlpzvymhzzvmgygelymfigkduoileqgelkaiyteawprhbxofbegjlxjhexjxzcgatnjansiwpheukelkathywlpoovsiqjhcusilpeglzgvouooelnhvujhlzheprljdcnoghsedxrwwknnbaruelnnamleelqujbcrqurpqusorcxmugfklixysennnnydhepgouubcgkjheukelkathywgaseoqvsvukapvoofwkjpvjsmgjssoxwruxjjmmavpogbopyrtcujlnnhpjbqpvzymqxqawbfwoebuim\n",
      "0 9 19 5\n",
      "jqiogmuzeuouymqraijpgaqiijfzwsjsqrjpxdsdjpbbbothhyxveibbwkvrfkjceugywkkssqthhepcwmlavlqpusbuultxtqmetfqrcuwkynjfyazunneqqrqraibvwsthtxrueaksybzjocdwnnymanbbvyeccarthebjiewmbutqxkxjoqxmirjphrxvvydvamecewhcewqrwksecukiiuymqraijpgaxvbjievtbjecewqriebgygjkoihceaqraiqchygmhnfnfsfbegdvthhethvleuevtzanogkjheymqraijpgaxvsqzucajhweogxvegvrozwysqqrjfjojhvrhehntnxmfkwpuslbtkyynnngjqqrnniqhcqrwkfzunwkxfwksoxsvyeylabqdousnnnncfheruwysneughheymqraijpgaakusckzujoaibbsqtqghbbzaeczasotujqthvsauxdeofqdsrtwedvnnxxfzkzvzieybassztquujyim\n",
      "20 1 1 20\n",
      "lxioscsfeueysegvmyduasmuuzfmoqbdgvdulaylduvgvtraxpzcmkvgcstkptdheukmcsogyyrathdzsynhxsqpokrlkppwlbgwbugveocsahbqaurfnayigvgvmyzooqrapwrhamogixhyqwhxnaseanvgxfqsagjethhegksyrllbpvhsymfbgxdutuzcxfzuskqsuadbuagvcsgoeomcegsegvmyduaszchegkjqheqsuagvgkjvwmpfmodbamgvmyqcxpscnincbrvswezurathraxseumxfcanwiufthsegvmyduaszcyyrfagrwgawizcwetksnkiyygvbqvrrwtkthninsfbptqhokvkpjkonajflxgvnayudbgvcsfmavcsbgcsisbtxfkgnhlzvzoknanaovthrhkiapeuenthsegvmyduasceokckrfvrmyvgyylbenvgnxqsnxisrnlxrabneilaicllbljegazunapifmsbfigkixocszlbeqxvsi\n",
      "\n"
     ]
    }
   ],
   "source": [
    "cipher_values = map_cipher(ciphertext)\n",
    "s=''    \n",
    "# compute the plaintext value and map to character\n",
    "for i in range(len(key_matrix)):\n",
    "    k1 = key_matrix[i][0][0]\n",
    "    k2 = key_matrix[i][0][1]\n",
    "    k3 = key_matrix[i][1][0]\n",
    "    k4 = key_matrix[i][1][1]\n",
    "    for item in cipher_values:\n",
    "        x1 = (item[0]*k1 + item[1]* k3)%26\n",
    "        x2 = (item[0]*k2 + item[1]*k4)%26\n",
    "        s+=key_list[val_list.index(x1)].lower()\n",
    "        s+=key_list[val_list.index(x2)].lower()\n",
    "    print(k1, k2, k3, k4)\n",
    "    print(''.join(s))\n",
    "    s=''\n",
    "print(s)"
   ]
  },
  {
   "cell_type": "markdown",
   "metadata": {},
   "source": [
    "Plaintext: “How could you, a mathematician, believe that extraterrestrials were sending you messages?” The visitior from Harvard asked the West Virginian with the movie-star looks and Olympian manner. “Because the ideas i had about supernatural beings came to me the same way my mathematical ideas did,” came the answer, “So i took them seriously.” Thus begins the story of John Nash, the mathematical genius who was a legend by age thirty when he slipped into madness, and who--thanks to the selflessness of a beautiful woman and the loyalty of the mathematics community-- emerged after decades of ghost-like existence to win a nobel prize and world acclaim."
   ]
  }
 ],
 "metadata": {
  "kernelspec": {
   "display_name": "Python 3",
   "language": "python",
   "name": "python3"
  },
  "language_info": {
   "codemirror_mode": {
    "name": "ipython",
    "version": 3
   },
   "file_extension": ".py",
   "mimetype": "text/x-python",
   "name": "python",
   "nbconvert_exporter": "python",
   "pygments_lexer": "ipython3",
   "version": "3.7.6"
  }
 },
 "nbformat": 4,
 "nbformat_minor": 4
}
